{
  "nbformat": 4,
  "nbformat_minor": 0,
  "metadata": {
    "colab": {
      "name": "Hypotheses",
      "provenance": [],
      "collapsed_sections": [
        "cmEpk2EWOtgi",
        "gBdA24oVO1xW"
      ]
    },
    "kernelspec": {
      "display_name": "Python 3",
      "name": "python3"
    }
  },
  "cells": [
    {
      "cell_type": "code",
      "metadata": {
        "id": "VMpjuiCVqXFM",
        "colab_type": "code",
        "colab": {}
      },
      "source": [
        "import scipy.stats as sts\n",
        "import matplotlib.pyplot as plt\n",
        "import numpy as np\n",
        "import math\n",
        "plt.style.use('seaborn')"
      ],
      "execution_count": 0,
      "outputs": []
    },
    {
      "cell_type": "markdown",
      "metadata": {
        "id": "cmEpk2EWOtgi",
        "colab_type": "text"
      },
      "source": [
        "###Функции"
      ]
    },
    {
      "cell_type": "code",
      "metadata": {
        "id": "UyvgIsrpteJA",
        "colab_type": "code",
        "colab": {}
      },
      "source": [
        "def sred(viborka):\n",
        "  x = np.array(list(map(float,viborka)))\n",
        "  sred = round(x.sum()/len(x), 2)\n",
        "  return sred"
      ],
      "execution_count": 0,
      "outputs": []
    },
    {
      "cell_type": "code",
      "metadata": {
        "id": "L_pptK_GuDHy",
        "colab_type": "code",
        "colab": {}
      },
      "source": [
        "def vibdisp(viborka):\n",
        "  x = np.array(list(map(float,viborka)))\n",
        "  sred = round(x.sum()/len(x), 2)\n",
        "  vibdisp =((x - np.array([sred]* len(x)))**2).sum()/(len(x)-1)\n",
        "  return vibdisp"
      ],
      "execution_count": 0,
      "outputs": []
    },
    {
      "cell_type": "code",
      "metadata": {
        "id": "OZFaaXOz2fZJ",
        "colab_type": "code",
        "colab": {}
      },
      "source": [
        "def hypnormvib(sred,mu,vibdisp,n,alpha,h1):\n",
        "  if h1 == '=': # альтернативная гипотеза задается как неравенство\n",
        "    ras = (sred - mu)/(vibdisp/n)**0.5\n",
        "    fig, ax = plt.subplots(1, 1)\n",
        "    x = np.linspace(sts.t.ppf(0.001, df=n-1),sts.t.ppf(0.999, df=n-1), 100)\n",
        "    ax.plot(x, sts.t.pdf(x, df=n-1),'g-')\n",
        "    ax.plot([ras,ras], [0,sts.t.pdf(ras, df=n-1)], 'b-')\n",
        "    ax.plot([sts.t.ppf(alpha/2, df=n-1),sts.t.ppf(alpha/2, df=n-1)], [0,sts.t.pdf(sts.t.ppf(alpha/2, df=n-1), df=n-1)], 'r-')\n",
        "    ax.plot([sts.t.ppf(1-alpha/2, df=n-1),sts.t.ppf(1-alpha/2, df=n-1)], [0,sts.t.pdf(sts.t.ppf(1-alpha/2, df=n-1), df=n-1)], 'r-')\n",
        "    ax.plot([min(x),max(x)], [0,0])\n",
        "    plt.show()\n",
        "    print('расчетное значение:' + str(round(ras,3)))\n",
        "    right = sts.t.ppf(1-alpha/2, df = n-1)\n",
        "    left = sts.t.ppf(alpha/2, df = n-1)\n",
        "    print(f'Область неотвержения H0:({round(left,3)}, {round(right,3)})')\n",
        "    print('p-value:'+ str(min(round(2*sts.t.cdf(-ras, df=n-1),3), round(2*sts.t.cdf(ras, df=n-1),3))))\n",
        "    if ras < right and ras > left:\n",
        "      return 'H0 не отвергается'\n",
        "    else:\n",
        "      return 'H0 отвергается'\n",
        "  elif h1 == '>':\n",
        "      ras = (sred - mu)/(vibdisp/n)**0.5\n",
        "      fig, ax = plt.subplots(1, 1)\n",
        "      x = np.linspace(sts.t.ppf(0.001, df=n-1),sts.t.ppf(0.999, df=n-1), 100)\n",
        "      ax.plot(x, sts.t.pdf(x, df=n-1),'g-')\n",
        "      ax.plot([ras,ras], [0,sts.t.pdf(ras, df=n-1)], 'b-')\n",
        "      ax.plot([sts.t.ppf(1-alpha, df=n-1),sts.t.ppf(1-alpha, df=n-1)], [0,sts.t.pdf(sts.t.ppf(1-alpha, df=n-1), df=n-1)], 'r-')\n",
        "      ax.plot([min(x),max(x)], [0,0])\n",
        "      plt.show()\n",
        "      print('расчетное значение:' + str(round(ras,3)))\n",
        "      right = sts.t.ppf(1-alpha, df = n-1)\n",
        "      print(f'Область неотвержения H0:(-inf ,{round(right,3)})')\n",
        "      print('p-value:'+ str(round(1-sts.t.cdf(ras, df=n-1),3)))\n",
        "      if ras < right:\n",
        "        return 'H0 не отвергается'\n",
        "      else:\n",
        "        return 'H0 отвергается'\n",
        "  elif h1 == '<':\n",
        "      ras = (sred - mu)/(vibdisp/n)**0.5\n",
        "      fig, ax = plt.subplots(1, 1)\n",
        "      x = np.linspace(sts.t.ppf(0.001, df=n-1),sts.t.ppf(0.999, df=n-1), 100)\n",
        "      ax.plot(x, sts.t.pdf(x, df=n-1),'g-')\n",
        "      ax.plot([ras,ras], [0,sts.t.pdf(ras, df=n-1)], 'b-')\n",
        "      ax.plot([sts.t.ppf(alpha, df=n-1),sts.t.ppf(alpha, df=n-1)], [0,sts.t.pdf(sts.t.ppf(alpha, df=n-1), df=n-1)], 'r-')\n",
        "      ax.plot([min(x),max(x)], [0,0])\n",
        "      plt.show()\n",
        "      print('расчетное значение:' + str(round(ras,3)))\n",
        "      left = sts.t.ppf(alpha, df = n-1)\n",
        "      print(f'Область неотвержения H0:({round(left,3)}, inf)')\n",
        "      print('p-value:'+ str(round(sts.t.cdf(ras, df=n-1),3)))\n",
        "      if ras > left:\n",
        "        return 'H0 не отвергается'\n",
        "      else:\n",
        "        return 'H0 отвергается'"
      ],
      "execution_count": 0,
      "outputs": []
    },
    {
      "cell_type": "code",
      "metadata": {
        "id": "OWFYy8yEw9rg",
        "colab_type": "code",
        "colab": {}
      },
      "source": [
        "def hypnorm(sred,mu,disp,n,alpha,h1):\n",
        "  if h1 == '=':\n",
        "    ras = (sred - mu)/(disp/n)**0.5\n",
        "    fig, ax = plt.subplots(1, 1)\n",
        "    x = np.linspace(sts.norm.ppf(0.00001), sts.norm.ppf(0.99999), 100)\n",
        "    ax.plot(x, sts.norm.pdf(x), 'g-')\n",
        "    ax.plot([ras,ras], [0,sts.norm.pdf(ras)], 'b-')\n",
        "    ax.plot([sts.norm.ppf(alpha/2),sts.norm.ppf(alpha/2)], [0,sts.norm.pdf(sts.norm.ppf(alpha/2))], 'r-')\n",
        "    ax.plot([sts.norm.ppf(1-alpha/2),sts.norm.ppf(1-alpha/2)], [0,sts.norm.pdf(sts.norm.ppf(1-alpha/2))], 'r-')\n",
        "    ax.plot([min(x),max(x)], [0,0], 'g-')\n",
        "    plt.show()\n",
        "    print('расчетное значение:' + str(round(ras,3)))\n",
        "    right = sts.norm.ppf(1-alpha/2)\n",
        "    left = sts.norm.ppf(alpha/2)\n",
        "    print(f'Область неотвержения H0:({round(left,3)}, {round(right,3)})')\n",
        "    print('p-value:'+ str(min(round(2*sts.norm.cdf(-ras),3), round(2*sts.norm.cdf(ras),3))))\n",
        "    if ras < right and ras > left:\n",
        "      return 'H0 не отвергается'\n",
        "    else:\n",
        "      return 'H0 отвергается'\n",
        "  elif h1 == '>':\n",
        "      ras = (sred - mu)/(disp/n)**0.5\n",
        "      fig, ax = plt.subplots(1, 1)\n",
        "      x = np.linspace(sts.norm.ppf(0.00001), sts.norm.ppf(0.99999), 100)\n",
        "      ax.plot(x, sts.norm.pdf(x), 'g-')\n",
        "      ax.plot([ras,ras], [0,sts.norm.pdf(ras)], 'b-')\n",
        "      ax.plot([sts.norm.ppf(1-alpha),sts.norm.ppf(1-alpha)], [0,sts.norm.pdf(sts.norm.ppf(1-alpha))], 'r-')\n",
        "      ax.plot([min(x),max(x)], [0,0], 'g-')\n",
        "      plt.show()\n",
        "      print('расчетное значение:' + str(round(ras,3)))\n",
        "      right = sts.norm.ppf(1-alpha)\n",
        "      print(f'Область неотвержения H0:(-inf ,{round(right,3)})')\n",
        "      print('p-value:'+ str(round(1-sts.norm.cdf(ras),3)))\n",
        "      if ras < right:\n",
        "        return 'H0 не отвергается'\n",
        "      else:\n",
        "        return 'H0 отвергается'\n",
        "  elif h1 == '<':\n",
        "      ras = (sred - mu)/(disp/n)**0.5\n",
        "      fig, ax = plt.subplots(1, 1)\n",
        "      x = np.linspace(sts.norm.ppf(0.00001), sts.norm.ppf(0.99999), 100)\n",
        "      ax.plot(x, sts.norm.pdf(x), 'g-')\n",
        "      ax.plot([ras,ras], [0,sts.norm.pdf(ras)], 'b-')\n",
        "      ax.plot([sts.norm.ppf(alpha),sts.norm.ppf(alpha)], [0,sts.norm.pdf(sts.norm.ppf(alpha))], 'r-')\n",
        "      ax.plot([min(x),max(x)], [0,0], 'g-')\n",
        "      plt.show()\n",
        "      print('расчетное значение:' + str(round(ras,3)))\n",
        "      left = sts.norm.ppf(alpha)\n",
        "      print(f'Область неотвержения H0:({round(left,3)}, inf)')\n",
        "      print('p-value:'+ str(round(sts.norm.cdf(ras),3)))\n",
        "      if ras > left:\n",
        "        return 'H0 не отвергается'\n",
        "      else:\n",
        "        return 'H0 отвергается'"
      ],
      "execution_count": 0,
      "outputs": []
    },
    {
      "cell_type": "code",
      "metadata": {
        "id": "RZ8v93y6CqKD",
        "colab_type": "code",
        "colab": {}
      },
      "source": [
        "def hypdisp(disp, vibdisp, n, alpha, h1):\n",
        "  if h1 == '=':\n",
        "    ras = vibdisp*(n-1)/disp\n",
        "    fig, ax = plt.subplots(1, 1)\n",
        "    x = np.linspace(sts.chi2.ppf(0.00000001, df=n-1),sts.chi2.ppf(0.999999999, df=n-1), 100)\n",
        "    ax.plot(x, sts.chi2.pdf(x, df=n-1),'g-')\n",
        "    ax.plot([ras,ras], [0,sts.chi2.pdf(ras, df=n-1)], 'b-')\n",
        "    ax.plot([sts.chi2.ppf(alpha/2, df=n-1),sts.chi2.ppf(alpha/2, df=n-1)], [0,sts.chi2.pdf(sts.chi2.ppf(alpha/2, df=n-1), df=n-1)], 'r-')\n",
        "    ax.plot([sts.chi2.ppf(1-alpha/2, df=n-1),sts.chi2.ppf(1-alpha/2, df=n-1)], [0,sts.chi2.pdf(sts.chi2.ppf(1-alpha/2, df=n-1), df=n-1)], 'r-')\n",
        "    ax.plot([min(x),max(x)], [0,0])\n",
        "    plt.show()\n",
        "    print('расчетное значение:' + str(round(ras,3)))\n",
        "    right = sts.chi2.ppf(1-alpha/2, df = n-1)\n",
        "    left = sts.chi2.ppf(alpha/2, df = n-1)\n",
        "    print(f'Область неотвержения H0:({round(left,3)}, {round(right,3)})')\n",
        "    if sts.chi2.cdf(ras, df=n-1) < 0.5:\n",
        "      print('p-value:'+ str(round(2*sts.chi2.cdf(ras, df=n-1),3)))\n",
        "    else:\n",
        "      print('p-value:'+ str(round(2*(1-sts.chi2.cdf(ras, df=n-1)),3)))\n",
        "    if ras < right and ras > left:\n",
        "        return 'H0 не отвергается'\n",
        "    else:\n",
        "        return 'H0 отвергается'\n",
        "  if h1 == '>':\n",
        "      ras = (vibdisp*(n-1))/disp\n",
        "      fig, ax = plt.subplots(1, 1)\n",
        "      x = np.linspace(sts.chi2.ppf(0.00000001, df=n-1),sts.chi2.ppf(0.999999999, df=n-1), 100)\n",
        "      ax.plot(x, sts.chi2.pdf(x, df=n-1),'g-')\n",
        "      ax.plot([ras,ras], [0,sts.chi2.pdf(ras, df=n-1)], 'b-')\n",
        "      ax.plot([sts.chi2.ppf(1-alpha, df=n-1),sts.chi2.ppf(1-alpha, df=n-1)], [0,sts.chi2.pdf(sts.chi2.ppf(1-alpha, df=n-1), df=n-1)], 'r-')\n",
        "      ax.plot([min(x),max(x)], [0,0])\n",
        "      plt.show()\n",
        "      print('расчетное значение:' + str(round(ras,3)))\n",
        "      right = sts.chi2.ppf(1-alpha, df = n-1)\n",
        "      print(f'Область неотвержения H0:(0, {round(right,3)})')\n",
        "      print('p-value:'+ str(round((1-sts.chi2.cdf(ras, df=n-1)),3)))\n",
        "      if ras < right:\n",
        "        return 'H0 не отвергается'\n",
        "      else:\n",
        "        return 'H0 отвергается'\n",
        "  if h1 == '<':\n",
        "    ras = (vibdisp*(n-1))/disp\n",
        "    fig, ax = plt.subplots(1, 1)\n",
        "    x = np.linspace(sts.chi2.ppf(0.00000001, df=n-1),sts.chi2.ppf(0.999999999, df=n-1), 100)\n",
        "    ax.plot(x, sts.chi2.pdf(x, df=n-1),'g-')\n",
        "    ax.plot([ras,ras], [0,sts.chi2.pdf(ras, df=n-1)], 'b-')\n",
        "    ax.plot([sts.chi2.ppf(alpha, df=n-1),sts.chi2.ppf(alpha, df=n-1)], [0,sts.chi2.pdf(sts.chi2.ppf(alpha, df=n-1), df=n-1)], 'r-')\n",
        "    ax.plot([min(x),max(x)], [0,0])\n",
        "    plt.show()\n",
        "    print('расчетное значение:' + str(round(ras,3)))\n",
        "    left = sts.chi2.ppf(alpha, df = n-1)\n",
        "    print(f'Область неотвержения H0:({round(left,3)}, inf)')\n",
        "    print('p-value:'+ str(round((sts.chi2.cdf(ras, df=n-1)),3)))\n",
        "    if ras > left:\n",
        "        return 'H0 не отвергается'\n",
        "    else:\n",
        "        return 'H0 отвергается'"
      ],
      "execution_count": 0,
      "outputs": []
    },
    {
      "cell_type": "code",
      "metadata": {
        "id": "aI1j6fjV07gU",
        "colab_type": "code",
        "colab": {}
      },
      "source": [
        "def hypravndisp(disp1,disp2, n1, n2, alpha,h1):\n",
        "  if h1 == '=':\n",
        "    ras = disp1/disp2\n",
        "    fig, ax = plt.subplots(1, 1)\n",
        "    x = np.linspace(sts.f.ppf(0.00000001, n1-1, n2-1),sts.f.ppf(0.999, n1-1, n2-1), 100)\n",
        "    ax.plot(x, sts.f.pdf(x, n1-1, n2-1),'g-')\n",
        "    ax.plot([ras,ras], [0,sts.f.pdf(ras, n1-1, n2-1)], 'b-')\n",
        "    ax.plot([sts.f.ppf(alpha/2, n1-1, n2-1),sts.f.ppf(alpha/2, n1-1, n2-1)], [0,sts.f.pdf(sts.f.ppf(alpha/2, n1-1, n2-1), n1-1, n2-1)], 'r-')\n",
        "    ax.plot([sts.f.ppf(1-alpha/2, n1-1, n2-1),sts.f.ppf(1-alpha/2, n1-1, n2-1)], [0,sts.f.pdf(sts.f.ppf(1-alpha/2, n1-1, n2-1), n1-1, n2-1)], 'r-')\n",
        "    ax.plot([min(x),max(x)], [0,0])\n",
        "    plt.show()\n",
        "    print('расчетное значение:' + str(round(ras,3)))\n",
        "    right = sts.f.ppf(1-alpha/2, n1-1, n2-1)\n",
        "    left = sts.f.ppf(alpha/2,n1-1, n2-1)\n",
        "    print(f'Область неотвержения H0:({round(left,3)}, {round(right,3)})')\n",
        "    if sts.f.cdf(ras, n1-1, n2-1) < 0.5:\n",
        "      print('p-value:'+ str(round(2*sts.f.cdf(ras, n1-1, n2-1),3)))\n",
        "    else:\n",
        "      print('p-value:'+ str(round(2*(1-sts.f.cdf(ras, n1-1, n2-1)),3)))\n",
        "    if ras > left and ras < right:\n",
        "      return 'H0 не отвергается'\n",
        "    else:\n",
        "      return 'H0 отвергается'\n",
        "  elif h1 =='>':\n",
        "    ras = disp1/disp2\n",
        "    fig, ax = plt.subplots(1, 1)\n",
        "    x = np.linspace(sts.f.ppf(0.00000001, n1-1, n2-1),sts.f.ppf(0.999, n1-1, n2-1), 100)\n",
        "    ax.plot(x, sts.f.pdf(x, n1-1, n2-1),'g-')\n",
        "    ax.plot([ras,ras], [0,sts.f.pdf(ras, n1-1, n2-1)], 'b-')\n",
        "    ax.plot([sts.f.ppf(1-alpha, n1-1, n2-1),sts.f.ppf(1-alpha, n1-1, n2-1)], [0,sts.f.pdf(sts.f.ppf(1-alpha, n1-1, n2-1), n1-1, n2-1)], 'r-')\n",
        "    ax.plot([min(x),max(x)], [0,0])\n",
        "    plt.show()\n",
        "    print('расчетное значение:' + str(round(ras,3)))\n",
        "    right = sts.f.ppf(1-alpha, n1-1, n2-1)\n",
        "    print(f'Область неотвержения H0:(0, {round(right,3)})')\n",
        "    print('p-value:'+ str(round(1-sts.f.cdf(ras, n1-1, n2-1),3)))\n",
        "    if ras < right:\n",
        "      return 'H0 не отвергается'\n",
        "    else:\n",
        "      return 'H0 отвергается'\n",
        "  elif h1 == '<':\n",
        "    ras = disp1/disp2\n",
        "    fig, ax = plt.subplots(1, 1)\n",
        "    x = np.linspace(sts.f.ppf(0.00000001, n1-1, n2-1),sts.f.ppf(0.999, n1-1, n2-1), 100)\n",
        "    ax.plot(x, sts.f.pdf(x, n1-1, n2-1),'g-')\n",
        "    ax.plot([ras,ras], [0,sts.f.pdf(ras, n1-1, n2-1)], 'b-')\n",
        "    ax.plot([sts.f.ppf(alpha, n1-1, n2-1),sts.f.ppf(alpha, n1-1, n2-1)], [0,sts.f.pdf(sts.f.ppf(alpha, n1-1, n2-1), n1-1, n2-1)], 'r-')\n",
        "    ax.plot([min(x),max(x)], [0,0], 'g-')\n",
        "    plt.show()\n",
        "    print('расчетное значение:' + str(round(ras,3)))\n",
        "    left = sts.f.ppf(alpha,n1-1, n2-1)\n",
        "    print(f'Область неотвержения H0:({round(left,3)}, inf)')\n",
        "    print('p-value:'+ str(round(sts.f.cdf(ras, n1-1, n2-1),3)))\n",
        "    if ras > left:\n",
        "      return 'H0 не отвергается'\n",
        "    else:\n",
        "      return 'H0 отвергается'\n",
        "\n",
        "\n",
        "    "
      ],
      "execution_count": 0,
      "outputs": []
    },
    {
      "cell_type": "code",
      "metadata": {
        "id": "noEDATcx0TEJ",
        "colab_type": "code",
        "colab": {}
      },
      "source": [
        "def hypraznmu_ravndisp(sredx,sredy,vibdispx,vibdispy,mux_muy,nx,ny,alpha, h1):\n",
        "  n = nx +ny -1\n",
        "  if h1 == '=':\n",
        "    ras = ((sredx - sredy) - (mux_muy))/((((nx-1)*vibdispx + (ny-1)*vibdispy)/(nx + ny -2))*(1/nx +1/ny))**0.5\n",
        "    fig, ax = plt.subplots(1, 1)\n",
        "    x = np.linspace(sts.t.ppf(0.001, df=n-1),sts.t.ppf(0.999, df=n-1), 100)\n",
        "    ax.plot(x, sts.t.pdf(x, df=n-1),'g-')\n",
        "    ax.plot([ras,ras], [0,sts.t.pdf(ras, df=n-1)], 'b-')\n",
        "    ax.plot([sts.t.ppf(alpha/2, df=n-1),sts.t.ppf(alpha/2, df=n-1)], [0,sts.t.pdf(sts.t.ppf(alpha/2, df=n-1), df=n-1)], 'r-')\n",
        "    ax.plot([sts.t.ppf(1-alpha/2, df=n-1),sts.t.ppf(1-alpha/2, df=n-1)], [0,sts.t.pdf(sts.t.ppf(1-alpha/2, df=n-1), df=n-1)], 'r-')\n",
        "    ax.plot([min(x),max(x)], [0,0])\n",
        "    plt.show()\n",
        "    print('расчетное значение:' + str(round(ras,3)))\n",
        "    right = sts.t.ppf(1-alpha/2, df = n-1)\n",
        "    left = sts.t.ppf(alpha/2, df = n-1)\n",
        "    print(f'Область неотвержения H0:({round(left,3)}, {round(right,3)})')\n",
        "    print('p-value:'+ str(min(round(2*sts.t.cdf(-ras, df=n-1),3), round(2*sts.t.cdf(ras, df=n-1),3))))\n",
        "    if ras < right and ras > left:\n",
        "      return 'H0 не отвергается'\n",
        "    else:\n",
        "      return 'H0 отвергается'\n",
        "  elif h1 == '>':\n",
        "      ras = ((sredx - sredy) - (mux_muy))/((((nx-1)*vibdispx + (ny-1)*vibdispy)/(nx + ny -2))*(1/nx +1/ny))**0.5\n",
        "      fig, ax = plt.subplots(1, 1)\n",
        "      x = np.linspace(sts.t.ppf(0.001, df=n-1),sts.t.ppf(0.999, df=n-1), 100)\n",
        "      ax.plot(x, sts.t.pdf(x, df=n-1),'g-')\n",
        "      ax.plot([ras,ras], [0,sts.t.pdf(ras, df=n-1)], 'b-')\n",
        "      ax.plot([sts.t.ppf(1-alpha, df=n-1),sts.t.ppf(1-alpha, df=n-1)], [0,sts.t.pdf(sts.t.ppf(1-alpha, df=n-1), df=n-1)], 'r-')\n",
        "      ax.plot([min(x),max(x)], [0,0])\n",
        "      plt.show()\n",
        "      print('расчетное значение:' + str(round(ras,3)))\n",
        "      right = sts.t.ppf(1-alpha, df = n-1)\n",
        "      print(f'Область неотвержения H0:(-inf, {round(right,3)})')\n",
        "      print('p-value:'+ str(round(1-sts.t.cdf(ras, df=n-1),3)))\n",
        "      if ras < right:\n",
        "        return 'H0 не отвергается'\n",
        "      else:\n",
        "        return 'H0 отвергается'\n",
        "  elif h1 == '<':\n",
        "      ras = ((sredx - sredy) - (mux_muy))/((((nx-1)*vibdispx + (ny-1)*vibdispy)/(nx + ny -2))*(1/nx +1/ny))**0.5\n",
        "      fig, ax = plt.subplots(1, 1)\n",
        "      x = np.linspace(sts.t.ppf(0.001, df=n-1),sts.t.ppf(0.999, df=n-1), 100)\n",
        "      ax.plot(x, sts.t.pdf(x, df=n-1),'g-')\n",
        "      ax.plot([ras,ras], [0,sts.t.pdf(ras, df=n-1)], 'b-')\n",
        "      ax.plot([sts.t.ppf(alpha, df=n-1),sts.t.ppf(alpha, df=n-1)], [0,sts.t.pdf(sts.t.ppf(alpha, df=n-1), df=n-1)], 'r-')\n",
        "      ax.plot([min(x),max(x)], [0,0])\n",
        "      plt.show()\n",
        "      print('расчетное значение:' + str(round(ras,3)))\n",
        "      left = sts.t.ppf(alpha, df = n-1)\n",
        "      print(f'Область неотвержения H0:({round(left,3)}, inf)')\n",
        "      print('p-value:'+ str(round(sts.t.cdf(ras, df=n-1),3)))\n",
        "      if ras > left:\n",
        "        return 'H0 не отвергается'\n",
        "      else:\n",
        "        return 'H0 отвергается'"
      ],
      "execution_count": 0,
      "outputs": []
    },
    {
      "cell_type": "code",
      "metadata": {
        "id": "83scS_AwonVh",
        "colab_type": "code",
        "colab": {}
      },
      "source": [
        "def hypraznmu_izvdisp(sredx,sredy,dispx,dispy,mux_muy,nx,ny,alpha, h1):\n",
        "  if h1 == '=':\n",
        "    ras = ((sredx-sredy) - (mux_muy))/(dispx/nx + dispy/ny)**0.5\n",
        "    fig, ax = plt.subplots(1, 1)\n",
        "    x = np.linspace(sts.norm.ppf(0.00001), sts.norm.ppf(0.99999), 100)\n",
        "    ax.plot(x, sts.norm.pdf(x), 'g-')\n",
        "    ax.plot([ras,ras], [0,sts.norm.pdf(ras)], 'b-')\n",
        "    ax.plot([sts.norm.ppf(alpha/2),sts.norm.ppf(alpha/2)], [0,sts.norm.pdf(sts.norm.ppf(alpha/2))], 'r-')\n",
        "    ax.plot([sts.norm.ppf(1-alpha/2),sts.norm.ppf(1-alpha/2)], [0,sts.norm.pdf(sts.norm.ppf(1-alpha/2))], 'r-')\n",
        "    ax.plot([min(x),max(x)], [0,0], 'g-')\n",
        "    plt.show()\n",
        "    print('расчетное значение:' + str(round(ras,3)))\n",
        "    right = sts.norm.ppf(1-alpha/2)\n",
        "    left = sts.norm.ppf(alpha/2)\n",
        "    print(f'Область неотвержения H0:({round(left,3)}, {round(right,3)})')\n",
        "    print('p-value:'+ str(min(round(2*sts.norm.cdf(-ras),3), round(2*sts.norm.cdf(ras),3))))\n",
        "    if ras < right and ras > left:\n",
        "      return 'H0 не отвергается'\n",
        "    else:\n",
        "      return 'H0 отвергается'\n",
        "  elif h1 == '>':\n",
        "      ras = ((sredx-sredy) - (mux_muy))/(dispx/nx + dispy/ny)**0.5\n",
        "      fig, ax = plt.subplots(1, 1)\n",
        "      x = np.linspace(sts.norm.ppf(0.00001), sts.norm.ppf(0.99999), 100)\n",
        "      ax.plot(x, sts.norm.pdf(x), 'g-')\n",
        "      ax.plot([ras,ras], [0,sts.norm.pdf(ras)], 'b-')\n",
        "      ax.plot([sts.norm.ppf(1-alpha),sts.norm.ppf(1-alpha)], [0,sts.norm.pdf(sts.norm.ppf(1-alpha))], 'r-')\n",
        "      ax.plot([min(x),max(x)], [0,0], 'g-')\n",
        "      plt.show()\n",
        "      print('расчетное значение:' + str(round(ras,3)))\n",
        "      right = sts.norm.ppf(1-alpha)\n",
        "      print(f'Область неотвержения H0:(-inf, {round(right,3)})')\n",
        "      print('p-value:'+ str(round(1-sts.norm.cdf(ras),3)))\n",
        "      if ras < right:\n",
        "        return 'H0 не отвергается'\n",
        "      else:\n",
        "        return 'H0 отвергается'\n",
        "  elif h1 == '<':\n",
        "      ras = ((sredx-sredy) - (mux_muy))/(dispx/nx + dispy/ny)**0.5\n",
        "      fig, ax = plt.subplots(1, 1)\n",
        "      x = np.linspace(sts.norm.ppf(0.00001), sts.norm.ppf(0.99999), 100)\n",
        "      ax.plot(x, sts.norm.pdf(x), 'g-')\n",
        "      ax.plot([ras,ras], [0,sts.norm.pdf(ras)], 'b-')\n",
        "      ax.plot([sts.norm.ppf(alpha),sts.norm.ppf(alpha)], [0,sts.norm.pdf(sts.norm.ppf(alpha))], 'r-')\n",
        "      ax.plot([min(x),max(x)], [0,0], 'g-')\n",
        "      plt.show()\n",
        "      print('расчетное значение:' + str(round(ras,3)))\n",
        "      left = sts.norm.ppf(alpha)\n",
        "      print(f'Область неотвержения H0:({round(left,3)}, inf)')\n",
        "      print('p-value:'+ str(round(sts.norm.cdf(ras),3)))\n",
        "      if ras > left:\n",
        "        return 'H0 не отвергается'\n",
        "      else:\n",
        "        return 'H0 отвергается'"
      ],
      "execution_count": 0,
      "outputs": []
    },
    {
      "cell_type": "code",
      "metadata": {
        "id": "LlHEygYE3qoD",
        "colab_type": "code",
        "colab": {}
      },
      "source": [
        "def hyprazndol(px,py,px_py,nx,ny,alpha,h1):\n",
        "  p0 = (nx*px +ny*py)/(nx+ny)\n",
        "  ras = ((px-py)-px_py)/(p0*(1-p0)*(1/nx +1/ny))**0.5\n",
        "  if h1 == '=':\n",
        "    fig, ax = plt.subplots(1, 1)\n",
        "    x = np.linspace(sts.norm.ppf(0.00001), sts.norm.ppf(0.99999), 100)\n",
        "    ax.plot(x, sts.norm.pdf(x), 'g-')\n",
        "    ax.plot([ras,ras], [0,sts.norm.pdf(ras)], 'b-')\n",
        "    ax.plot([sts.norm.ppf(alpha/2),sts.norm.ppf(alpha/2)], [0,sts.norm.pdf(sts.norm.ppf(alpha/2))], 'r-')\n",
        "    ax.plot([sts.norm.ppf(1-alpha/2),sts.norm.ppf(1-alpha/2)], [0,sts.norm.pdf(sts.norm.ppf(1-alpha/2))], 'r-')\n",
        "    ax.plot([min(x),max(x)], [0,0], 'g-')\n",
        "    plt.show()\n",
        "    print('расчетное значение:' + str(round(ras,3)))\n",
        "    right = sts.norm.ppf(1-alpha/2)\n",
        "    left = sts.norm.ppf(alpha/2)\n",
        "    print(f'Область неотвержения H0:({round(left,3)}, {round(right,3)})')\n",
        "    print('p-value:'+ str(min(round(2*sts.norm.cdf(-ras),3), round(2*sts.norm.cdf(ras),3))))\n",
        "    if ras < right and ras > left:\n",
        "      return 'H0 не отвергается'\n",
        "    else:\n",
        "      return 'H0 отвергается'\n",
        "  elif h1 == '>':\n",
        "      fig, ax = plt.subplots(1, 1)\n",
        "      x = np.linspace(sts.norm.ppf(0.00001), sts.norm.ppf(0.99999), 100)\n",
        "      ax.plot(x, sts.norm.pdf(x), 'g-')\n",
        "      ax.plot([ras,ras], [0,sts.norm.pdf(ras)], 'b-')\n",
        "      ax.plot([sts.norm.ppf(1-alpha),sts.norm.ppf(1-alpha)], [0,sts.norm.pdf(sts.norm.ppf(1-alpha))], 'r-')\n",
        "      ax.plot([min(x),max(x)], [0,0], 'g-')\n",
        "      plt.show()\n",
        "      print('расчетное значение:' + str(round(ras,3)))\n",
        "      right = sts.norm.ppf(1-alpha)\n",
        "      print(f'Область неотвержения H0:(-inf, {round(right,3)})')\n",
        "      print('p-value:'+ str(round(1-sts.norm.cdf(ras),3)))\n",
        "      if ras < right:\n",
        "        return 'H0 не отвергается'\n",
        "      else:\n",
        "        return 'H0 отвергается'\n",
        "  elif h1 == '<':\n",
        "      fig, ax = plt.subplots(1, 1)\n",
        "      x = np.linspace(sts.norm.ppf(0.00001), sts.norm.ppf(0.99999), 100)\n",
        "      ax.plot(x, sts.norm.pdf(x), 'g-')\n",
        "      ax.plot([ras,ras], [0,sts.norm.pdf(ras)], 'b-')\n",
        "      ax.plot([sts.norm.ppf(alpha),sts.norm.ppf(alpha)], [0,sts.norm.pdf(sts.norm.ppf(alpha))], 'r-')\n",
        "      ax.plot([min(x),max(x)], [0,0], 'g-')\n",
        "      plt.show()\n",
        "      print('расчетное значение:' + str(round(ras,3)))\n",
        "      left = sts.norm.ppf(alpha)\n",
        "      print(f'Область неотвержения H0:({round(left,3)}, 0)')\n",
        "      print('p-value:'+ str(round(sts.norm.cdf(ras),3)))\n",
        "      if ras > left:\n",
        "        return 'H0 не отвергается'\n",
        "      else:\n",
        "        return 'H0 отвергается'"
      ],
      "execution_count": 0,
      "outputs": []
    },
    {
      "cell_type": "markdown",
      "metadata": {
        "id": "gBdA24oVO1xW",
        "colab_type": "text"
      },
      "source": [
        "###Примеры"
      ]
    },
    {
      "cell_type": "code",
      "metadata": {
        "id": "SrLzc24-VVEi",
        "colab_type": "code",
        "colab": {}
      },
      "source": [
        "sred()# выборочное среднее\n",
        "vibdisp()# выборочная дисперсия\n",
        "hypdisp()# гипотеза о дисперсии\n",
        "hypnorm()# гипотеза о мат ожидании, известная дисперсия\n",
        "hypnormvib()# гипотеза о мат ожидании, выборочная дисперсия\n",
        "hypravndisp()# гипотеза о равенстве дисперсий двух распределений\n",
        "hypraznmu_izvdisp() #гипотеза о разности матожиданий известные дисперсии\n",
        "hypraznmu_ravndisp() #гипотеза о разности матожиданий неизвестные, но равные дисперсии\n",
        "hyprazndol() #гипотеза о разности долей"
      ],
      "execution_count": 0,
      "outputs": []
    },
    {
      "cell_type": "code",
      "metadata": {
        "id": "1AYMrGd1Tn6f",
        "colab_type": "code",
        "outputId": "62a0df6d-ffa6-4925-8502-f902bcc8cea0",
        "colab": {
          "base_uri": "https://localhost:8080/",
          "height": 34
        }
      },
      "source": [
        "sred([7,6,5,7624,3474])"
      ],
      "execution_count": 86,
      "outputs": [
        {
          "output_type": "execute_result",
          "data": {
            "text/plain": [
              "2223.2"
            ]
          },
          "metadata": {
            "tags": []
          },
          "execution_count": 86
        }
      ]
    },
    {
      "cell_type": "code",
      "metadata": {
        "id": "YZG1KjiBpF_P",
        "colab_type": "code",
        "outputId": "de94b351-5a72-4afe-a6f9-75834feaf034",
        "colab": {
          "base_uri": "https://localhost:8080/",
          "height": 34
        }
      },
      "source": [
        "vibdisp([2,1,0])"
      ],
      "execution_count": 87,
      "outputs": [
        {
          "output_type": "execute_result",
          "data": {
            "text/plain": [
              "1.0"
            ]
          },
          "metadata": {
            "tags": []
          },
          "execution_count": 87
        }
      ]
    },
    {
      "cell_type": "code",
      "metadata": {
        "id": "v0ut3BGcFDC5",
        "colab_type": "code",
        "outputId": "ff456c04-a43c-4e82-8609-8f1f63fa68a6",
        "colab": {
          "base_uri": "https://localhost:8080/",
          "height": 421
        }
      },
      "source": [
        "hypdisp(0.3, 0.25, 100, 0.05, '>')"
      ],
      "execution_count": 88,
      "outputs": [
        {
          "output_type": "display_data",
          "data": {
            "image/png": "[encoded data removed]",
            "text/plain": [
              "<Figure size 576x396 with 1 Axes>"
            ]
          },
          "metadata": {
            "tags": []
          }
        },
        {
          "output_type": "stream",
          "text": [
            "расчетное значение:82.5\n",
            "Область неотвержения H0:(0, 123.225)\n",
            "p-value:0.884\n"
          ],
          "name": "stdout"
        },
        {
          "output_type": "execute_result",
          "data": {
            "text/plain": [
              "'H0 не отвергается'"
            ]
          },
          "metadata": {
            "tags": []
          },
          "execution_count": 88
        }
      ]
    },
    {
      "cell_type": "code",
      "metadata": {
        "id": "-1H0gqf3xkV0",
        "colab_type": "code",
        "outputId": "c9696d01-22e4-4eb1-b687-560997078a65",
        "colab": {
          "base_uri": "https://localhost:8080/",
          "height": 417
        }
      },
      "source": [
        "hypnorm(120,100,55**2,40,0.05,'=')"
      ],
      "execution_count": 89,
      "outputs": [
        {
          "output_type": "display_data",
          "data": {
            "image/png": "[encoded data removed]",
            "text/plain": [
              "<Figure size 576x396 with 1 Axes>"
            ]
          },
          "metadata": {
            "tags": []
          }
        },
        {
          "output_type": "stream",
          "text": [
            "расчетное значение:2.3\n",
            "Область неотвержения H0:(-1.96, 1.96)\n",
            "p-value:0.021\n"
          ],
          "name": "stdout"
        },
        {
          "output_type": "execute_result",
          "data": {
            "text/plain": [
              "'H0 отвергается'"
            ]
          },
          "metadata": {
            "tags": []
          },
          "execution_count": 89
        }
      ]
    },
    {
      "cell_type": "code",
      "metadata": {
        "id": "lMnRP2o1pM4j",
        "colab_type": "code",
        "outputId": "b31316af-d99e-4eed-da77-6b1bbd2170dd",
        "colab": {
          "base_uri": "https://localhost:8080/",
          "height": 417
        }
      },
      "source": [
        "hypnormvib(1,0.5,1,3,0.1,'<')"
      ],
      "execution_count": 90,
      "outputs": [
        {
          "output_type": "display_data",
          "data": {
            "image/png": "[encoded data removed]",
            "text/plain": [
              "<Figure size 576x396 with 1 Axes>"
            ]
          },
          "metadata": {
            "tags": []
          }
        },
        {
          "output_type": "stream",
          "text": [
            "расчетное значение:0.866\n",
            "Область неотвержения H0:(-1.886, inf)\n",
            "p-value:0.761\n"
          ],
          "name": "stdout"
        },
        {
          "output_type": "execute_result",
          "data": {
            "text/plain": [
              "'H0 не отвергается'"
            ]
          },
          "metadata": {
            "tags": []
          },
          "execution_count": 90
        }
      ]
    },
    {
      "cell_type": "code",
      "metadata": {
        "id": "PaWqC86H5jbg",
        "colab_type": "code",
        "outputId": "841fbd3d-f0c4-4443-cb0a-c6f28ce6eb57",
        "colab": {
          "base_uri": "https://localhost:8080/",
          "height": 418
        }
      },
      "source": [
        "hypravndisp(0.8,0.76,132,156,0.05, '=')"
      ],
      "execution_count": 91,
      "outputs": [
        {
          "output_type": "display_data",
          "data": {
            "image/png": "[encoded data removed]",
            "text/plain": [
              "<Figure size 576x396 with 1 Axes>"
            ]
          },
          "metadata": {
            "tags": []
          }
        },
        {
          "output_type": "stream",
          "text": [
            "расчетное значение:1.053\n",
            "Область неотвержения H0:(0.717, 1.388)\n",
            "p-value:0.757\n"
          ],
          "name": "stdout"
        },
        {
          "output_type": "execute_result",
          "data": {
            "text/plain": [
              "'H0 не отвергается'"
            ]
          },
          "metadata": {
            "tags": []
          },
          "execution_count": 91
        }
      ]
    },
    {
      "cell_type": "code",
      "metadata": {
        "id": "U6TQJFhW1yEo",
        "colab_type": "code",
        "outputId": "c062f391-1503-42d3-ed99-2dcb37736d0f",
        "colab": {
          "base_uri": "https://localhost:8080/",
          "height": 417
        }
      },
      "source": [
        "hypraznmu_izvdisp(6,5,36,25,0,100,50,0.05,'=')"
      ],
      "execution_count": 92,
      "outputs": [
        {
          "output_type": "display_data",
          "data": {
            "image/png": "[encoded data removed]",
            "text/plain": [
              "<Figure size 576x396 with 1 Axes>"
            ]
          },
          "metadata": {
            "tags": []
          }
        },
        {
          "output_type": "stream",
          "text": [
            "расчетное значение:1.078\n",
            "Область неотвержения H0:(-1.96, 1.96)\n",
            "p-value:0.281\n"
          ],
          "name": "stdout"
        },
        {
          "output_type": "execute_result",
          "data": {
            "text/plain": [
              "'H0 не отвергается'"
            ]
          },
          "metadata": {
            "tags": []
          },
          "execution_count": 92
        }
      ]
    },
    {
      "cell_type": "code",
      "metadata": {
        "id": "nzp9vtK0c3jw",
        "colab_type": "code",
        "outputId": "13f5c9ac-cdf1-4d59-dbae-de92fcc1d97e",
        "colab": {
          "base_uri": "https://localhost:8080/",
          "height": 417
        }
      },
      "source": [
        "hypraznmu_ravndisp(9.5,9.8,0.5**2,0.6**2,0,20,25,0.05,'>')"
      ],
      "execution_count": 93,
      "outputs": [
        {
          "output_type": "display_data",
          "data": {
            "image/png": "[encoded data removed]",
            "text/plain": [
              "<Figure size 576x396 with 1 Axes>"
            ]
          },
          "metadata": {
            "tags": []
          }
        },
        {
          "output_type": "stream",
          "text": [
            "расчетное значение:-1.792\n",
            "Область неотвержения H0:(-inf, 1.681)\n",
            "p-value:0.96\n"
          ],
          "name": "stdout"
        },
        {
          "output_type": "execute_result",
          "data": {
            "text/plain": [
              "'H0 не отвергается'"
            ]
          },
          "metadata": {
            "tags": []
          },
          "execution_count": 93
        }
      ]
    },
    {
      "cell_type": "code",
      "metadata": {
        "id": "LY6PolsH5ETO",
        "colab_type": "code",
        "outputId": "c280fa80-7ef2-4595-aed8-7263cf35f389",
        "colab": {
          "base_uri": "https://localhost:8080/",
          "height": 417
        }
      },
      "source": [
        "hyprazndol(0.55,0.4,0,100,200,0.05,'=')"
      ],
      "execution_count": 94,
      "outputs": [
        {
          "output_type": "display_data",
          "data": {
            "image/png": "[encoded data removed]",
            "text/plain": [
              "<Figure size 576x396 with 1 Axes>"
            ]
          },
          "metadata": {
            "tags": []
          }
        },
        {
          "output_type": "stream",
          "text": [
            "расчетное значение:2.462\n",
            "Область неотвержения H0:(-1.96, 1.96)\n",
            "p-value:0.014\n"
          ],
          "name": "stdout"
        },
        {
          "output_type": "execute_result",
          "data": {
            "text/plain": [
              "'H0 отвергается'"
            ]
          },
          "metadata": {
            "tags": []
          },
          "execution_count": 94
        }
      ]
    }
  ]
}